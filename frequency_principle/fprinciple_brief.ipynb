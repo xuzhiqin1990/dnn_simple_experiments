{
 "cells": [
  {
   "cell_type": "markdown",
   "metadata": {},
   "source": [
    "# Related papers\n",
    "\n",
    "[1] Zhi-Qin John Xu* , Yaoyu Zhang, and Yanyang Xiao, Training behavior of deep neural network in frequency domain, arXiv preprint: 1807.01251, (2018), 26th International Conference on Neural Information Processing (ICONIP 2019). [pdf](https://ins.sjtu.edu.cn/people/xuzhiqin/pub/training_behavior_ICONIP2019_XZX.pdf) and [web](https://link.springer.com/chapter/10.1007/978-3-030-36708-4_22)\n",
    "\n",
    "[2] Zhi-Qin John Xu* , Yaoyu Zhang, Tao Luo, Yanyang Xiao, Zheng Ma, Frequency Principle: Fourier Analysis Sheds Light on Deep Neural Networks, arXiv preprint: 1901.06523, Communications in Computational Physics (CiCP). [pdf](https://ins.sjtu.edu.cn/people/xuzhiqin/pub/shedlightCiCP.pdf) and in [web](https://www.global-sci.org/intro/article_detail/cicp/18395.html), some code is in [github](https://github.com/xuzhiqin1990/F-Principle) \n",
    "\n",
    "[3] Zhi-Qin John Xu*, Yaoyu Zhang, Tao Luo, Overview frequency principle/spectral bias in deep learning. arxiv 2201.07395 (2022) . [pdf](https://ins.sjtu.edu.cn/people/xuzhiqin/pub/fpoverview2201.07395.pdf), and in [arxiv](https://arxiv.org/abs/2201.07395).\n",
    "\n",
    "For more details, refer to [Zhi-Qin John Xu's homepage](https://ins.sjtu.edu.cn/people/xuzhiqin/pub.html)\n",
    "\n",
    "A bilibili course that is helpful for learning python: [Bilibili course](https://www.bilibili.com/video/BV16H4y1Q7tj/?p=1&vd_source=9e3c7a35167d2d11f2549c94242850e1)"
   ]
  },
  {
   "cell_type": "markdown",
   "metadata": {},
   "source": [
    "# Frequency Principle (1D)\n",
    "\n",
    "DNNs often fit target functions from low to high frequencies.  \n",
    "\n",
    "The first figure shows the evolution of the function in spatial domain, the red line is the target function, and the blue line is the DNN output. *Ordinate vs. Abscissa : y vs. x*. \n",
    "\n",
    "The second figure shows the evolution of the function in Fourier domain, the red line is the FFT of the target function, and the blue line is the FFT of DNN output. *Ordinate vs. Abscissa: amplitude vs. frequency*. \n",
    "\n",
    "<!-- ![Title](https://ins.sjtu.edu.cn/people/xuzhiqin/index.html) -->\n",
    "![value](./pic/value.gif)![freq](./pic/F-Principle_one_dim.gif)\n",
    "\n",
    "\n",
    "### Core objective\n",
    "\n",
    "Explore the generality of the frequency principle. Is it a universal law? What design should we do in the experiment?\n",
    "\n",
    "### Report requirements\n",
    "\n",
    "The relationship between the frequency principle and a series of hyperparameters. Choose one or two hyperparameters for experimental research in the report. Specific hyperparameter options can be found in the task section.\n",
    "\n",
    "## Contact information\n",
    "\n",
    "Zhi-Qin John Xu (许志钦): xuzhiqin@sjtu.edu.cn\n",
    "\n",
    "Zhongwang Zhang (张众望): 0123zzw666@sjtu.edu.cn\n",
    "\n",
    "\n",
    "\n"
   ]
  },
  {
   "cell_type": "markdown",
   "metadata": {},
   "source": [
    "# Import libraries\n",
    "\n",
    "Here's a brief introduction to the libraries used in this code:\n",
    "\n",
    "- `os`: This is a Python standard library that provides a way to interact with the operating system. It is used here to set environment variables.\n",
    "\n",
    "- `time`: This is a Python standard library that provides various time-related functions. \n",
    "\n",
    "- `numpy`: This is a popular Python library for numerical computing. It provides support for large, multi-dimensional arrays and matrices, as well as a large collection of mathematical functions. \n",
    "\n",
    "- `torch`: This is the PyTorch library, which is a popular open-source machine learning framework. It provides support for building and training neural networks, as well as various other machine learning algorithms. \n",
    "\n",
    "- `torch.nn`: This is a sub-library of PyTorch that provides various neural network modules and loss functions. \n",
    "\n",
    "- `argparse`: This is a Python standard library that provides a way to parse command-line arguments. \n",
    "\n",
    "- `matplotlib`: This is a popular Python library for creating visualizations. It provides support for creating various types of plots and charts. "
   ]
  },
  {
   "cell_type": "code",
   "execution_count": 23,
   "metadata": {},
   "outputs": [],
   "source": [
    "import os\n",
    "import time\n",
    "import numpy as np\n",
    "import torch\n",
    "import torch.nn as nn\n",
    "import argparse\n",
    "import matplotlib.pyplot as plt\n",
    "\n",
    "seed=0\n",
    "torch.random.manual_seed(seed)\n",
    "os.environ['PYTHONHASHSEED'] = str(seed)  \n",
    "np.random.seed(seed)\n",
    "torch.manual_seed(seed)\n",
    "torch.cuda.manual_seed(seed)\n",
    "torch.cuda.manual_seed_all(seed)  \n",
    "torch.backends.cudnn.benchmark = False\n",
    "torch.backends.cudnn.deterministic = True\n"
   ]
  },
  {
   "attachments": {},
   "cell_type": "markdown",
   "metadata": {},
   "source": [
    "#   Default configuration parameter settings.\n",
    "\n",
    "`argparse` is a Python package that provides a convenient way to parse command line arguments. It allows us to define the arguments our program expects and will parse them for us. This makes it easy to write user-friendly command-line interfaces for our programs.\n",
    "\n",
    "To use `argparse`, we first create an `ArgumentParser` object, which will hold all the information necessary to parse the command-line arguments. We then define the arguments we expect using the `add_argument` method. This method takes several parameters, such as the name of the argument, its type, and a help message.\n",
    "\n",
    "In this code, we are using `argparse` to parse the command-line arguments that are passed to the program. We define several arguments, such as the learning rate, optimizer, and number of epochs, and then parse them using `args, _ = parser.parse_known_args()`. This allows us to easily customize the behavior of our program without having to modify the code itself.\n",
    "\n"
   ]
  },
  {
   "cell_type": "code",
   "execution_count": 24,
   "metadata": {},
   "outputs": [
    {
     "name": "stdout",
     "output_type": "stream",
     "text": [
      "Namespace(boundary=['-10', '10'], act_func_name='tanh', hidden_layers_width=[200, 200, 200, 100], training_size=600, test_size=1000, t=0.5, epochs=10000, lr=0.0001, optimizer='adam', input_dim=1, output_dim=1, device='cuda', plot_epoch=1000, ini_path='')\n"
     ]
    }
   ],
   "source": [
    "parser = argparse.ArgumentParser(description='PyTorch Training for Frequency Principle')\n",
    "\n",
    "# Tunable parameters:\n",
    "\n",
    "parser.add_argument('--boundary', nargs='+', type=str, default=['-10', '10'],\n",
    "                    help='the boundary of 1D data')\n",
    "parser.add_argument('--act_func_name', default='tanh',\n",
    "                    help='activation function: tanh | ReLU | Sigmoid | hat')\n",
    "parser.add_argument('--hidden_layers_width',\n",
    "                    nargs='+', type=int, default=[200,200,200,100])\n",
    "parser.add_argument('--training_size',   default=600, type=int,\n",
    "                    help='the training data size for model (default: 101)')\n",
    "parser.add_argument('--test_size',   default=1000, type=int,\n",
    "                    help='the test data size for model (default: 1000)')\n",
    "parser.add_argument('--t', type=float, default=0.5,\n",
    "                    help='parameter initialization distribution variance power(We first assume that each layer is the same width.)')\n",
    "parser.add_argument('--epochs', default=10000, type=int,\n",
    "                    metavar='N', help='number of total epochs to run')\n",
    "parser.add_argument('--lr', default=1e-4, type=float, help='learning rate')\n",
    "\n",
    "# Non-tunable parameters\n",
    "\n",
    "parser.add_argument('--optimizer', default='adam',\n",
    "                    help='optimizer: sgd | adam')\n",
    "parser.add_argument('--input_dim',   default=1, type=int,\n",
    "                    help='the input dimension for model (default: 1)')\n",
    "parser.add_argument('--output_dim',   default=1, type=int,\n",
    "                    help='the output dimension for model (default: 1)')\n",
    "parser.add_argument('--device',   default='cuda', type=str,\n",
    "                    help='device used to train (cpu or cuda)')\n",
    "parser.add_argument('--plot_epoch',   default=1000, type=int,\n",
    "                    help='step size of plotting interval (default: 1000)')\n",
    "parser.add_argument('--ini_path', type=str,\n",
    "                    default='')\n",
    "\n",
    "args, _ = parser.parse_known_args()\n",
    "\n",
    "print(args)\n",
    "\n",
    "# print(args.lr)"
   ]
  },
  {
   "attachments": {},
   "cell_type": "markdown",
   "metadata": {},
   "source": [
    "\n",
    "\n",
    "# Discrete Fourier Transform (DFT) and Inverse Transform\n",
    "\n",
    "The **Discrete Fourier Transform (DFT)** is defined by: $$X_k = \\sum_{n=0}^{N-1} x_n exp(-2\\pi i k n/N); 0 \\leq k \\leq N-1.$$\n",
    "And the **Inverse Discrete Fourier Transform (IDFT)** is defined by: $$x_n = \\frac{1}{N} \\sum_{k=0}^{N-1} X_k exp(2\\pi i k n/N).$$ \n",
    "\n",
    "`SelectPeakIndex` is a function for selecting frequency peaks, which are used to compare the convergence rates of different frequencies. The reason for choosing the frequency peak is explained later."
   ]
  },
  {
   "cell_type": "code",
   "execution_count": 25,
   "metadata": {},
   "outputs": [
    {
     "data": {
      "text/plain": [
       "'\\nfunc: my_fft(data, freq_len, isnorm)\\n\\n    This function performs FFT on the given data.\\n\\n    Args:\\n    data (numpy.ndarray): The input data.\\n    freq_len (int): The length of the frequency.\\n    isnorm (int): The normalization factor.\\n\\n    Returns:\\n    return_fft (numpy.ndarray): The FFT output array.\\n\\nfunc: SelectPeakIndex(FFT_Data, endpoint=True)\\n\\n    This function selects the peak index from FFT data.\\n\\n    Args:\\n    FFT_Data (numpy.ndarray): The FFT data array.\\n    endpoint (bool): Whether to include endpoints or not. Default is True.\\n\\n    Returns:\\n    sel_ind (numpy.ndarray): Selected index array with peaks. \\n'"
      ]
     },
     "execution_count": 25,
     "metadata": {},
     "output_type": "execute_result"
    }
   ],
   "source": [
    "\n",
    "from utils import my_fft, SelectPeakIndex\n",
    "\n",
    "\"\"\"\n",
    "func: my_fft(data, freq_len, isnorm)\n",
    "\n",
    "    This function performs FFT on the given data.\n",
    "\n",
    "    Args:\n",
    "    data (numpy.ndarray): The input data.\n",
    "    freq_len (int): The length of the frequency.\n",
    "    isnorm (int): The normalization factor.\n",
    "\n",
    "    Returns:\n",
    "    return_fft (numpy.ndarray): The FFT output array.\n",
    "\n",
    "func: SelectPeakIndex(FFT_Data, endpoint=True)\n",
    "\n",
    "    This function selects the peak index from FFT data.\n",
    "\n",
    "    Args:\n",
    "    FFT_Data (numpy.ndarray): The FFT data array.\n",
    "    endpoint (bool): Whether to include endpoints or not. Default is True.\n",
    "\n",
    "    Returns:\n",
    "    sel_ind (numpy.ndarray): Selected index array with peaks. \n",
    "\"\"\""
   ]
  },
  {
   "attachments": {},
   "cell_type": "markdown",
   "metadata": {},
   "source": [
    "\n",
    "\n",
    "# DFT and False Frequencies with Insufficient Sampling\n",
    "\n",
    "To prevent the occurrence of false frequencies, we need to sample sufficiently, and only study the magnitude changes of the frequency at the peak position in the frequency space.\n"
   ]
  },
  {
   "cell_type": "code",
   "execution_count": 26,
   "metadata": {},
   "outputs": [
    {
     "name": "stdout",
     "output_type": "stream",
     "text": [
      "sample size=50: \n"
     ]
    },
    {
     "data": {
      "image/png": "[encoded data removed]",
      "text/plain": [
       "<Figure size 864x388.8 with 2 Axes>"
      ]
     },
     "metadata": {
      "needs_background": "light"
     },
     "output_type": "display_data"
    }
   ],
   "source": [
    "from utils import dft_analysis\n",
    "\n",
    "\"\"\"\n",
    "func: dft_analysis(f, T, N)\n",
    "\n",
    "    Perform DFT analysis on a given function f with a total time of T and N samples.\n",
    "\n",
    "    Args:\n",
    "        f (function): The function to be analyzed.\n",
    "        T (float): The total time of the signal.\n",
    "        N (int): The number of samples.\n",
    "\n",
    "    Returns:\n",
    "        None\n",
    "\"\"\"\n",
    "\n",
    "\n",
    "def f(t): \n",
    "    return np.sin(2*np.pi*t) + np.sin(6*np.pi*t)\n",
    "\n",
    "\n",
    "print('sample size=50: ')\n",
    "dft_analysis(f=f, T=2, N=50)\n",
    "\n"
   ]
  },
  {
   "attachments": {},
   "cell_type": "markdown",
   "metadata": {},
   "source": [
    "#   The storage path of the output file.\n",
    "\n",
    "The storage path is mainly based on the current time."
   ]
  },
  {
   "cell_type": "code",
   "execution_count": 27,
   "metadata": {},
   "outputs": [
    {
     "name": "stdout",
     "output_type": "stream",
     "text": [
      "save path: 20230919113311010503\n"
     ]
    }
   ],
   "source": [
    "from utils import create_save_dir\n",
    "\n",
    "\"\"\"\n",
    "func: create_save_dir(path_ini)\n",
    "    \n",
    "    Create a new directory with the current date and time as its name and return the path of the new directory.\n",
    "\n",
    "    Args:\n",
    "    path_ini: The initial path to create the new directory.\n",
    "\n",
    "    Return:\n",
    "    The path of the new directory.\n",
    "\"\"\"\n",
    "\n",
    "args.path = create_save_dir(args.ini_path)\n",
    "print('save path: %s' % (args.path))\n"
   ]
  },
  {
   "attachments": {},
   "cell_type": "markdown",
   "metadata": {},
   "source": [
    "# Generation of training and test sets.\n",
    "\n",
    "Target function: $f(x)= \\alpha \\left[(sin(x)+2sin(3x)+3sin(5x))/\\alpha \\right]$, where $\\left[ \\cdot \\right]$ is the rounding function.\n",
    "\n",
    "Training data interval: $[-10, 10]$\n",
    "\n",
    "Test data interval: $[-10.5, 10.5]$\n"
   ]
  },
  {
   "cell_type": "code",
   "execution_count": 28,
   "metadata": {},
   "outputs": [
    {
     "name": "stdout",
     "output_type": "stream",
     "text": [
      "The training data size:  torch.Size([600, 1])\n",
      "The target function:\n"
     ]
    },
    {
     "data": {
      "image/png": "[encoded data removed]",
      "text/plain": [
       "<Figure size 432x288 with 1 Axes>"
      ]
     },
     "metadata": {
      "needs_background": "light"
     },
     "output_type": "display_data"
    }
   ],
   "source": [
    "\n",
    "from utils import get_dataset, plot_target\n",
    "\n",
    "\"\"\"\n",
    "func: get_dataset(args, target_func)\n",
    "    \n",
    "    Create the 1d dataset with the data boundary and the target function.\n",
    "\n",
    "    Args:\n",
    "    args (object): object containing data boundary.\n",
    "\n",
    "    Return:\n",
    "    The tuple of training input, training target, test input, test target.\n",
    "\"\"\"\n",
    "\n",
    "def get_y(x):  \n",
    "\n",
    "    \"\"\"\n",
    "    Function to fit.\n",
    "\n",
    "    Args:\n",
    "        x (float): input value.\n",
    "\n",
    "    Returns:\n",
    "        float: output value.\n",
    "    \"\"\"\n",
    "    alpha=2\n",
    "    # y = np.sin(x)+np.sin(3*x)+np.sin(5*x)\n",
    "    y=alpha*np.round((np.sin(x)+2*np.sin(3*x)+3*np.sin(5*x))/alpha)\n",
    "    return y\n",
    "\n",
    "\n",
    "args.training_input, args.training_target, args.test_input, args.test_target = get_dataset(args, get_y)\n",
    "\n",
    "print(\"The training data size: \", args.training_input.shape)\n",
    "\n",
    "\n",
    "print(\"The target function:\")\n",
    "plot_target(args)\n",
    "\n"
   ]
  },
  {
   "cell_type": "markdown",
   "metadata": {},
   "source": [
    "# Activation Functions\n",
    "\n",
    "We mainly give four activation functions: Tanh, ReLU, Sigmoid, Hat.\n",
    "\n",
    "Tanh function：\n",
    "\n",
    "$$f(x) = \\frac{e^x - e^{-x}}{e^x + e^{-x}}$$\n",
    "\n",
    "ReLU function：\n",
    "\n",
    "$$f(x) = \\max(0, x)$$\n",
    "\n",
    "Sigmoid function：\n",
    "\n",
    "$$f(x) = \\frac{1}{1 + e^{-x}}$$\n",
    "\n",
    "Hat function：\n",
    "\n",
    "$$f(x) = \\begin{cases} x, & 0 \\leq x < 1 \\\\  2 - x, & 1 \\leq x < 2 \\\\ 0, & \\text{otherwise}  \\end{cases}$$\n",
    "\n"
   ]
  },
  {
   "cell_type": "code",
   "execution_count": 29,
   "metadata": {},
   "outputs": [
    {
     "data": {
      "image/png": "[encoded data removed]",
      "text/plain": [
       "<Figure size 432x288 with 4 Axes>"
      ]
     },
     "metadata": {
      "needs_background": "light"
     },
     "output_type": "display_data"
    }
   ],
   "source": [
    "\n",
    "from utils import plot_activation\n",
    "\n",
    "plot_activation()\n",
    "\n"
   ]
  },
  {
   "attachments": {},
   "cell_type": "markdown",
   "metadata": {},
   "source": [
    "# Network model and parameter initialization.\n",
    "\n",
    "Given $\\theta\\in \\mathbb{R}^M$, the FNN function $f_{\\theta}(\\cdot)$ is defined recursively. First, we denote $f^{[0]}_{\\theta}(x)=x$ for all $x\\in\\mathbb{R}^d$. Then, for $l\\in[L-1]$, $f^{[l]}_{\\theta}$ is defined recursively as \n",
    "$f^{[l]}_{\\theta}(x)=\\sigma (W^{[l]} f^{[l-1]}_{\\theta}(x)+b^{[l]})$, where $\\sigma$ is a non-linear activation function.\n",
    "Finally, we denote\n",
    "\\begin{equation*}\n",
    "    f_{\\theta}(x)=f(x,\\theta)=f^{[L]}_{\\theta}(x)=W^{[L]} f^{[L-1]}_{\\theta}(x)+b^{[L]}.\n",
    "\\end{equation*}\n",
    "\n",
    "The parameter initialization is under the Gaussian distribution as follows,\n",
    "\n",
    "\\begin{equation*}\n",
    "    \\theta|_{l} \\sim N(0, \\frac{1}{m_{l}^t}),\n",
    "\\end{equation*}\n",
    "where the $l$ th layer parameters of $\\theta$ is the ordered pair $\\theta|_{l}=\\Big(W^{[l]},b^{[l]}\\Big),\\quad l\\in[L]$, $m_{l}$ is the width of the $l$ th layer."
   ]
  },
  {
   "cell_type": "code",
   "execution_count": 30,
   "metadata": {},
   "outputs": [
    {
     "name": "stdout",
     "output_type": "stream",
     "text": [
      "The network structure:\n",
      "Model(\n",
      "  (features): Sequential(\n",
      "    (0): Linear(in_features=1, out_features=200, bias=True)\n",
      "    (1): Tanh()\n",
      "    (2): Linear(in_features=200, out_features=200, bias=True)\n",
      "    (3): Tanh()\n",
      "    (4): Linear(in_features=200, out_features=200, bias=True)\n",
      "    (5): Tanh()\n",
      "    (6): Linear(in_features=200, out_features=100, bias=True)\n",
      "    (7): Tanh()\n",
      "    (8): Linear(in_features=100, out_features=1, bias=True)\n",
      "  )\n",
      ")\n"
     ]
    }
   ],
   "source": [
    "from utils import get_act_func, Model\n",
    "\n",
    "#Set the activation function\n",
    "act_func = get_act_func(args.act_func_name)\n",
    "\n",
    "#Initialize the neural network model\n",
    "model = Model(args.t, args.hidden_layers_width, args.input_dim,\n",
    "               args.output_dim, act_func).to(args.device)\n",
    "print(\"The network structure:\")\n",
    "print(model)\n"
   ]
  },
  {
   "attachments": {},
   "cell_type": "markdown",
   "metadata": {},
   "source": [
    "# One-step training function.\n",
    "\n",
    "The training data set is denoted as  $S=\\{(x_i,y_i)\\}_{i=1}^n$, where $x_i\\in\\mathbb{R}^d$ and $y_i\\in \\mathbb{R}^{d'}$. For simplicity, we assume an unknown function $y$ satisfying $y(x_i)=y_i$ for $i\\in[n]$. The empirical risk reads as\n",
    "\\begin{equation*}\n",
    "    R_S(\\theta)=\\frac{1}{n}\\sum_{i=1}^n\\ell(f(x_i,\\theta),y(x_i)),\n",
    "\\end{equation*}\n",
    "where the loss function $\\ell(\\cdot,\\cdot)$ is differentiable and the derivative of $\\ell$ with respect to its first argument is denoted by $\\nabla\\ell(y,y^*)$. \n",
    "\n",
    "For a one-step gradient descent, we have, \n",
    "\n",
    "\\begin{equation*}\n",
    "    \\theta_{t+1}=\\theta_t-\\eta\\nabla R_S(\\theta).\n",
    "\\end{equation*}\n",
    "\n"
   ]
  },
  {
   "cell_type": "code",
   "execution_count": 31,
   "metadata": {},
   "outputs": [
    {
     "data": {
      "text/plain": [
       "'\\nfunc: train_one_step(model, optimizer, loss_fn,  args)\\n    Train one step.\\n\\n    Args:\\n        model (nn.Module): model.\\n        optimizer (optim.Optimizer): optimizer.\\n        loss_fn (nn.Module): loss function.\\n        args (object): object containing training and test input and target.\\n\\n    Returns:\\n        tuple: tuple containing loss and outputs.\\n'"
      ]
     },
     "execution_count": 31,
     "metadata": {},
     "output_type": "execute_result"
    }
   ],
   "source": [
    "\n",
    "from utils import train_one_step\n",
    "\n",
    "\n",
    "\"\"\"\n",
    "func: train_one_step(model, optimizer, loss_fn,  args)\n",
    "    Train one step.\n",
    "\n",
    "    Args:\n",
    "        model (nn.Module): model.\n",
    "        optimizer (optim.Optimizer): optimizer.\n",
    "        loss_fn (nn.Module): loss function.\n",
    "        args (object): object containing training and test input and target.\n",
    "\n",
    "    Returns:\n",
    "        tuple: tuple containing loss and outputs.\n",
    "\"\"\"\n"
   ]
  },
  {
   "attachments": {},
   "cell_type": "markdown",
   "metadata": {},
   "source": [
    "# One-step test function."
   ]
  },
  {
   "cell_type": "code",
   "execution_count": 32,
   "metadata": {},
   "outputs": [
    {
     "data": {
      "text/plain": [
       "'\\nfunc: test(model, loss_fn, args)\\n    Test.\\n\\n    Args:\\n        model (nn.Module): model.\\n        loss_fn (nn.Module): loss function.\\n        args (object): object containing training and test input and target.\\n\\n    Returns:\\n        tuple: tuple containing loss and outputs.\\n'"
      ]
     },
     "execution_count": 32,
     "metadata": {},
     "output_type": "execute_result"
    }
   ],
   "source": [
    "\n",
    "from utils import test\n",
    "\n",
    "\n",
    "\"\"\"\n",
    "func: test(model, loss_fn, args)\n",
    "    Test.\n",
    "\n",
    "    Args:\n",
    "        model (nn.Module): model.\n",
    "        loss_fn (nn.Module): loss function.\n",
    "        args (object): object containing training and test input and target.\n",
    "\n",
    "    Returns:\n",
    "        tuple: tuple containing loss and outputs.\n",
    "\"\"\"\n"
   ]
  },
  {
   "attachments": {},
   "cell_type": "markdown",
   "metadata": {},
   "source": [
    "# Plot the loss value."
   ]
  },
  {
   "cell_type": "code",
   "execution_count": 33,
   "metadata": {},
   "outputs": [
    {
     "data": {
      "text/plain": [
       "'\\nfunc: plot_loss(path, loss_train, x_log=False)\\n    Plot loss.\\n\\n    Args:\\n        path (str): path.\\n        loss_train (list): list of training loss.\\n        x_log (bool): whether to use log scale for x-axis.\\n\\n    Returns:\\n        None.\\n'"
      ]
     },
     "execution_count": 33,
     "metadata": {},
     "output_type": "execute_result"
    }
   ],
   "source": [
    "\n",
    "from utils import plot_loss\n",
    "\n",
    "\n",
    "\"\"\"\n",
    "func: plot_loss(path, loss_train, x_log=False)\n",
    "    Plot loss.\n",
    "\n",
    "    Args:\n",
    "        path (str): path.\n",
    "        loss_train (list): list of training loss.\n",
    "        x_log (bool): whether to use log scale for x-axis.\n",
    "\n",
    "    Returns:\n",
    "        None.\n",
    "\"\"\"\n"
   ]
  },
  {
   "attachments": {},
   "cell_type": "markdown",
   "metadata": {},
   "source": [
    "# Plot the output figure.\n",
    "\n"
   ]
  },
  {
   "cell_type": "code",
   "execution_count": 34,
   "metadata": {},
   "outputs": [
    {
     "data": {
      "text/plain": [
       "'\\nfunc: plot_model_output(path, args, output, epoch)\\n    Plot model output.\\n\\n    Args:\\n        path (str): path.\\n        args (object): object containing training and test input and target.\\n        output (torch.tensor): model output.\\n        epoch (int): epoch.\\n    Returns:\\n        None.\\n'"
      ]
     },
     "execution_count": 34,
     "metadata": {},
     "output_type": "execute_result"
    }
   ],
   "source": [
    "\n",
    "from utils import plot_model_output\n",
    "\n",
    "\n",
    "\"\"\"\n",
    "func: plot_model_output(path, args, output, epoch)\n",
    "    Plot model output.\n",
    "\n",
    "    Args:\n",
    "        path (str): path.\n",
    "        args (object): object containing training and test input and target.\n",
    "        output (torch.tensor): model output.\n",
    "        epoch (int): epoch.\n",
    "    Returns:\n",
    "        None.\n",
    "\"\"\""
   ]
  },
  {
   "attachments": {},
   "cell_type": "markdown",
   "metadata": {},
   "source": [
    "# Training Process"
   ]
  },
  {
   "cell_type": "code",
   "execution_count": 35,
   "metadata": {},
   "outputs": [
    {
     "name": "stdout",
     "output_type": "stream",
     "text": [
      "[1] loss: 7.863462 valloss: 7.435116 time: 0.03 s\n",
      "[1001] loss: 4.545660 valloss: 6.110476 time: 6.45 s\n",
      "[2001] loss: 0.704224 valloss: 2.443673 time: 12.78 s\n",
      "[3001] loss: 0.335025 valloss: 1.777605 time: 19.22 s\n",
      "[4001] loss: 0.323038 valloss: 1.538619 time: 25.59 s\n",
      "[5001] loss: 0.314229 valloss: 1.350646 time: 31.63 s\n",
      "[6001] loss: 0.303873 valloss: 1.207013 time: 38.07 s\n",
      "[7001] loss: 0.294258 valloss: 1.127558 time: 44.47 s\n",
      "[8001] loss: 0.286803 valloss: 1.124523 time: 50.93 s\n",
      "[9001] loss: 0.281591 valloss: 1.164161 time: 57.17 s\n",
      "[10001] loss: 0.272279 valloss: 1.293142 time: 63.53 s\n"
     ]
    }
   ],
   "source": [
    "# Define the optimizer: determine the gradient descent optimization algorithm, the default is Adam.\n",
    "if args.optimizer=='sgd':\n",
    "    optimizer = torch.optim.SGD(model.parameters(), lr=args.lr)\n",
    "else:\n",
    "    optimizer = torch.optim.Adam(model.parameters(), lr=args.lr)\n",
    "\n",
    "# Define the loss function: the loss function is the mean square error.\n",
    "loss_fn = nn.MSELoss(reduction='mean')\n",
    "\n",
    "# Record the start time of training\n",
    "t0 = time.time()\n",
    "\n",
    "# Initialize the loss list\n",
    "args.loss_training_lst=[]\n",
    "args.loss_test_lst = []\n",
    "\n",
    "# Initialize the training output list\n",
    "args.training_output=[]\n",
    "\n",
    "# Start training\n",
    "for epoch in range(args.epochs+1):\n",
    "    # Set the model to training mode\n",
    "    model.train()\n",
    "\n",
    "    # Train one step\n",
    "    loss, training_output = train_one_step(\n",
    "    model, optimizer, loss_fn, args)\n",
    "\n",
    "    # Test the trained model\n",
    "    loss_test, output = test(\n",
    "        model, loss_fn, args)\n",
    "    \n",
    "    # Record the loss and output\n",
    "    args.loss_training_lst.append(loss)\n",
    "    args.loss_test_lst.append(loss_test)\n",
    "    args.training_output.append(training_output.detach().cpu().numpy())\n",
    "\n",
    "    # Print the loss and time\n",
    "    if epoch % args.plot_epoch == 0:\n",
    "        print(\"[%d] loss: %.6f valloss: %.6f time: %.2f s\" %\n",
    "                (epoch + 1, loss, loss_test, (time.time()-t0)))\n",
    "\n",
    "    # Plot the loss and output\n",
    "    if (epoch+1) % (args.plot_epoch) == 0:\n",
    "        plot_loss(path=args.path,\n",
    "                loss_train=args.loss_training_lst, x_log=True)\n",
    "        plot_loss(path=args.path,\n",
    "                loss_train=args.loss_training_lst, x_log=False)\n",
    "\n",
    "        plot_model_output(args.path, args, output, epoch)\n",
    "\n",
    "\n"
   ]
  },
  {
   "cell_type": "markdown",
   "metadata": {},
   "source": [
    "# Plot the frequency distribution figure\n",
    "\n",
    "To avoid the interference of amplitude on the experiment, we study the changes in relative error at different frequencies. We consider the following quantities:\n",
    "$$\n",
    "\\Delta_F(k)=\\frac{\\left|\\hat{h}_k-\\hat{f}_k\\right|} {\\left|\\hat{f}_k\\right|}\n",
    "$$\n",
    "\n",
    "where $\\hat{h}_k$ and $\\hat{f}_k$ are the discrete Fourier transform (DFT) of the DNN output $h(x)$ and the  target function $f(x)$,  $|·|$ denotes the norm of a complex number."
   ]
  },
  {
   "cell_type": "code",
   "execution_count": 16,
   "metadata": {},
   "outputs": [],
   "source": [
    "\n",
    "\n",
    "\n",
    "def plot_freq_distr(args, y_fft, y_fft_pred, idx):\n",
    "\n",
    "\n",
    "    \"\"\"\n",
    "    Plot frequency distribution of the given training target and output.\n",
    "    \n",
    "    Args:\n",
    "    args: A dictionary containing save path.\n",
    "    y_fft: The FFT of the target.\n",
    "    y_fft_pred: The FFT of the model output.\n",
    "    idx: The selected index array.\n",
    "\n",
    "    Returns:\n",
    "    None\n",
    "    \"\"\"\n",
    "    # initialize the figure\n",
    "    plt.figure()\n",
    "    ax = plt.gca()\n",
    "\n",
    "    # plot the fft of the target using semilogy\n",
    "    plt.semilogy(y_fft+1e-5, label='Target')\n",
    "    plt.semilogy(idx, y_fft[idx]+1e-5, 'o')\n",
    "\n",
    "    # plot the fft of the model output using semilogy\n",
    "    plt.semilogy(y_fft_pred+1e-5, label='Model output')\n",
    "    plt.semilogy(idx, y_fft_pred[idx]+1e-5, 'o')\n",
    "\n",
    "    # set the labels\n",
    "    plt.legend(fontsize=22)\n",
    "\n",
    "    # set the x-axis and y-axis labels and their fontsizes\n",
    "    plt.xlabel('freq idx', fontsize=22)\n",
    "    plt.ylabel('freq', fontsize=22)\n",
    "\n",
    "    # set the x-axis and y-axis tick parameters size\n",
    "    plt.gca().tick_params(axis='y', labelsize=22)\n",
    "    plt.gca().tick_params(axis='x', labelsize=22)\n",
    "\n",
    "\n",
    "    plt.tight_layout()\n",
    "\n",
    "    # save the figure\n",
    "    plt.savefig(os.path.join(args.path, 'fft.png'), dpi=300)\n",
    "    plt.show()\n",
    "    plt.close()\n",
    "\n",
    "\n",
    "\n",
    "\n",
    "\n",
    "def plot_abs_err(args, abs_err):\n",
    "\n",
    "    \"\"\"\n",
    "    Plot the heatmap of the relative error for different frequencies.\n",
    "    \n",
    "    Args:\n",
    "    args: A dictionary containing save path.\n",
    "    abs_err: The absolute error array.\n",
    "    \n",
    "    Returns:\n",
    "    None\n",
    "    \"\"\"\n",
    "\n",
    "    # initialize the figure\n",
    "    plt.figure(figsize=(8, 6))\n",
    "    ax = plt.gca()\n",
    "\n",
    "    # plot the heatmap of the relative error\n",
    "    plt.pcolor(abs_err, cmap='RdBu', vmin=0.1, vmax=1, linewidths=0.4)\n",
    "\n",
    "    # set the colorbar\n",
    "    plt.colorbar()\n",
    "   \n",
    "    # set the x-axis labels and its fontsize\n",
    "    plt.xlabel('Epoch', fontsize=22)\n",
    "\n",
    "    # Set the y-axis ticks and labels to 1, 2, 3\n",
    "    plt.yticks([0.5, 1.5, 2.5], [1, 2, 3], fontsize=22)\n",
    "\n",
    "    # Set the y-axis tick parameters to hide the tick marks and set the tick label size\n",
    "    plt.gca().yaxis.set_tick_params(size=0)\n",
    "    plt.gca().tick_params(axis='y', labelsize=22)\n",
    "    plt.gca().tick_params(axis='x', labelsize=22)\n",
    "    plt.title('Absolute Error', fontsize=22)\n",
    "    plt.tight_layout()\n",
    "\n",
    "    # save the figure\n",
    "    plt.savefig(os.path.join(args.path, 'hot.png'))\n",
    "    plt.show()\n",
    "    plt.close()"
   ]
  },
  {
   "cell_type": "code",
   "execution_count": 17,
   "metadata": {},
   "outputs": [
    {
     "data": {
      "image/png": "[encoded data removed]",
      "text/plain": [
       "<Figure size 432x288 with 1 Axes>"
      ]
     },
     "metadata": {
      "needs_background": "light"
     },
     "output_type": "display_data"
    },
    {
     "data": {
      "image/png": "[encoded data removed]",
      "text/plain": [
       "<Figure size 576x432 with 2 Axes>"
      ]
     },
     "metadata": {
      "needs_background": "light"
     },
     "output_type": "display_data"
    }
   ],
   "source": [
    "# calculate the FFT of the target\n",
    "y_fft = my_fft(args.training_target.detach().cpu().numpy()) \n",
    "\n",
    "# select the peak index\n",
    "idx = SelectPeakIndex(y_fft, endpoint=False)\n",
    "\n",
    "# calculate the FFT of the model output\n",
    "y_fft_pred = my_fft(args.training_output[-1])\n",
    "\n",
    "# squeeze the training output\n",
    "y_pred_epoch = np.squeeze(args.training_output)\n",
    "\n",
    "# select the first three peak index\n",
    "idx1 = idx[:3]\n",
    "\n",
    "# create the absolute error array\n",
    "abs_err = np.zeros([len(idx1), len(args.training_output)])\n",
    "\n",
    "# calculate the absolute error\n",
    "tmp1 = y_fft[idx1]\n",
    "for i in range(len(y_pred_epoch)):\n",
    "    tmp2 = my_fft(y_pred_epoch[i])[idx1]\n",
    "    abs_err[:, i] = np.abs(tmp1 - tmp2)/(1e-5 + tmp1)\n",
    "\n",
    "    \n",
    "\n",
    "plot_freq_distr(args, y_fft, y_fft_pred, idx)\n",
    "plot_abs_err(args, abs_err)"
   ]
  },
  {
   "cell_type": "markdown",
   "metadata": {},
   "source": [
    "# Task\n",
    "\n",
    "The fitting process of neural networks is still affected by many factors, such as: parameter initialization distribution, learning rate, objective function, activation function, etc. Will the change of these factors affect the frequency principle? Try to study the impact of certain parameters on the frequency principle by controlling variables.\n",
    "\n",
    "Next, we provide two experimental schemes for changing the target function. They respectively explore the impact of changes in the target function on the frequency principle by changing the frequency and amplitude of the high-frequency part in the target function. (code shown in example.ipynb) \n",
    "\n",
    "    Eg1. Study how different frequency amplitudes affect the convergence speed of the model. Taking the objective function $sin(x)+a*sin(4x)$ as an example, where $a$ is a given parameter. We can plot the horizontal axis as $a$ and the vertical axis as (the number of steps required for high-frequency relative error <10%) / (the number of steps required for low-frequency relative error <10%) under this objective function.\n",
    "\n",
    "    Eg2. Study how different high frequency affect the convergence speed of the model. Taking the objective function $sin(x)+0.2*sin(k\\cdot x)$ as an example, where $k$ is a given parameter. We can plot the horizontal axis as $k$ and the vertical axis as (the number of steps required for high-frequency relative error <10%) / (the number of steps required for low-frequency relative error <10%) under this objective function.\n",
    "\n",
    "\n",
    "    (10% in the two tasks above is optional.)"
   ]
  }
 ],
 "metadata": {
  "kernelspec": {
   "display_name": "zzw",
   "language": "python",
   "name": "python3"
  },
  "language_info": {
   "codemirror_mode": {
    "name": "ipython",
    "version": 3
   },
   "file_extension": ".py",
   "mimetype": "text/x-python",
   "name": "python",
   "nbconvert_exporter": "python",
   "pygments_lexer": "ipython3",
   "version": "3.9.12"
  },
  "orig_nbformat": 4
 },
 "nbformat": 4,
 "nbformat_minor": 2
}
